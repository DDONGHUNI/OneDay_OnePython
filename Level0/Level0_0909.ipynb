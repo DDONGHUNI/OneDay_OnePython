{
 "cells": [
  {
   "cell_type": "code",
   "execution_count": 1,
   "id": "1854c407-2199-40ca-808e-8771e8cf3abb",
   "metadata": {},
   "outputs": [
    {
     "name": "stdin",
     "output_type": "stream",
     "text": [
      " caphead\n"
     ]
    },
    {
     "name": "stdout",
     "output_type": "stream",
     "text": [
      "Neurosurgery\n"
     ]
    }
   ],
   "source": [
    "code = input()\n",
    "last_four_words = code[-4:]\n",
    "\n",
    "if last_four_words == \"_eye\":\n",
    "    print(\"Ophthalmologyc\")\n",
    "elif \"head\":\n",
    "    print(\"Neurosurgery\")\n",
    "elif \"infl\":\n",
    "    print(\"Orthopedics\")\n",
    "elif \"skin\":\n",
    "    print(\"Dermatology\")\n",
    "else:\n",
    "    print(\"direct recommendation\")"
   ]
  },
  {
   "cell_type": "code",
   "execution_count": 18,
   "id": "0d6566c6-b358-476f-898f-32e9de76063d",
   "metadata": {},
   "outputs": [
    {
     "name": "stdout",
     "output_type": "stream",
     "text": [
      "===== ATM MENU =====\n",
      "01. 잔액조회\n",
      "02. 입금\n",
      "03. 출금\n",
      "04. 거래내역 조회\n",
      "00. 종료\n",
      "====================\n"
     ]
    },
    {
     "name": "stdin",
     "output_type": "stream",
     "text": [
      "원하는 메뉴를 선택하세요:  02\n",
      "얼마를 입금하시겠습니까?:  50\n"
     ]
    },
    {
     "name": "stdout",
     "output_type": "stream",
     "text": [
      "입금 후 잔액은 50원입니다.\n",
      "\n",
      "===== ATM MENU =====\n",
      "01. 잔액조회\n",
      "02. 입금\n",
      "03. 출금\n",
      "04. 거래내역 조회\n",
      "00. 종료\n",
      "====================\n"
     ]
    },
    {
     "name": "stdin",
     "output_type": "stream",
     "text": [
      "원하는 메뉴를 선택하세요:  00\n"
     ]
    },
    {
     "name": "stdout",
     "output_type": "stream",
     "text": [
      "ATM을 종료합니다.\n"
     ]
    }
   ],
   "source": [
    "# ATM 기능\n",
    "\n",
    "import os\n",
    "import datetime # 거래 시간을 기록하기 위해 datetime 모듈을 추가합니다.\n",
    "\n",
    "# 프로그램 시작 시 초기값 설정\n",
    "money = 0\n",
    "transaction_history = [] # 1. 거래 내역을 저장할 빈 리스트 생성\n",
    "\n",
    "while True:\n",
    "\n",
    "    print(\"===== ATM MENU =====\")\n",
    "    print(\"01. 잔액조회\")\n",
    "    print(\"02. 입금\")\n",
    "    print(\"03. 출금\")\n",
    "    print(\"04. 거래내역 조회\") # 메뉴에 거래내역 조회 추가\n",
    "    print(\"00. 종료\")\n",
    "    print(\"====================\")\n",
    "\n",
    "    atm = input(\"원하는 메뉴를 선택하세요: \")\n",
    "\n",
    "    if (atm == \"01\"):\n",
    "        print(f\"현재 잔액은 {money}원입니다.\\n\")\n",
    "    \n",
    "    elif (atm == \"02\"):\n",
    "        try:\n",
    "            plus = int(input(\"얼마를 입금하시겠습니까?: \"))\n",
    "            if plus > 0:\n",
    "                money += plus\n",
    "                # 2. 입금 내역을 리스트에 기록\n",
    "                now = datetime.datetime.now().strftime('%Y-%m-%d %H:%M:%S')\n",
    "                record = f\"[{now}] 입금: +{plus:,}원 (잔액: {money:,}원)\"\n",
    "                transaction_history.append(record)\n",
    "                print(f\"입금 후 잔액은 {money:,}원입니다.\\n\")\n",
    "            else:\n",
    "                print(\"0보다 큰 금액을 입력해주세요.\\n\")\n",
    "        except ValueError:\n",
    "            print(\"숫자만 입력해주세요.\\n\")\n",
    "\n",
    "    elif (atm == \"03\"):\n",
    "        try:\n",
    "            minus = int(input(\"얼마를 출금하시겠습니까?: \"))\n",
    "            if minus > money:\n",
    "                print(\"잔액이 부족합니다.\")\n",
    "            elif minus <= 0:\n",
    "                print(\"0보다 큰 금액을 입력해주세요.\")\n",
    "            else:\n",
    "                money -= minus\n",
    "                # 2. 출금 내역을 리스트에 기록\n",
    "                now = datetime.datetime.now().strftime('%Y-%m-%d %H:%M:%S')\n",
    "                record = f\"[{now}] 출금: -{minus:,}원 (잔액: {money:,}원)\"\n",
    "                transaction_history.append(record)\n",
    "                print(f\"출금 후 잔액은 {money:,}원입니다.\")\n",
    "        except ValueError:\n",
    "            print(\"숫자만 입력해주세요.\")\n",
    "            \n",
    "    elif (atm == \"04\"):\n",
    "        # 3. '거래내역 조회' 기능 구현\n",
    "        print(\"===== 거래내역 조회 =====\")\n",
    "        if not transaction_history: # 리스트가 비어있으면\n",
    "            print(\"거래 내역이 없습니다.\\n\")\n",
    "        else: # 리스트에 내용이 있으면\n",
    "            for record in transaction_history:\n",
    "                print(record)\n",
    "        print(\"========================\")\n",
    "\n",
    "    elif (atm == \"00\"):\n",
    "        print(\"ATM을 종료합니다.\")\n",
    "        break\n",
    "        \n",
    "    else:\n",
    "        print(\"메뉴에 있는 번호를 다시 입력해주세요.\\n\")"
   ]
  }
 ],
 "metadata": {
  "kernelspec": {
   "display_name": "Python [conda env:base] *",
   "language": "python",
   "name": "conda-base-py"
  },
  "language_info": {
   "codemirror_mode": {
    "name": "ipython",
    "version": 3
   },
   "file_extension": ".py",
   "mimetype": "text/x-python",
   "name": "python",
   "nbconvert_exporter": "python",
   "pygments_lexer": "ipython3",
   "version": "3.13.5"
  }
 },
 "nbformat": 4,
 "nbformat_minor": 5
}
