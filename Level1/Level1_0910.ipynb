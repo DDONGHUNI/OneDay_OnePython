{
 "cells": [
  {
   "cell_type": "code",
   "execution_count": 1,
   "id": "f1978589-fb76-4624-9eb5-1881093ce8b9",
   "metadata": {},
   "outputs": [],
   "source": [
    "# 배열 평균 구하기\n",
    "\n",
    "def solution(arr):    \n",
    "    return sum(arr)/len(arr)"
   ]
  },
  {
   "cell_type": "code",
   "execution_count": 2,
   "id": "7252e356-c849-4904-8247-7ec42020c975",
   "metadata": {},
   "outputs": [],
   "source": [
    "# 배열 x 배수 증가\n",
    "\n",
    "def solution(x, n):\n",
    "    answer = []\n",
    "    \n",
    "    for i in range(1, n+1):\n",
    "        answer.append(x*i)\n",
    "    \n",
    "    return answer"
   ]
  }
 ],
 "metadata": {
  "kernelspec": {
   "display_name": "Python [conda env:base] *",
   "language": "python",
   "name": "conda-base-py"
  },
  "language_info": {
   "codemirror_mode": {
    "name": "ipython",
    "version": 3
   },
   "file_extension": ".py",
   "mimetype": "text/x-python",
   "name": "python",
   "nbconvert_exporter": "python",
   "pygments_lexer": "ipython3",
   "version": "3.13.5"
  }
 },
 "nbformat": 4,
 "nbformat_minor": 5
}
