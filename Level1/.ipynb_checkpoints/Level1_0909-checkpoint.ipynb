{
 "cells": [
  {
   "cell_type": "code",
   "execution_count": 6,
   "id": "367e5fcf-58e1-41a8-ab86-28049199e89a",
   "metadata": {},
   "outputs": [
    {
     "data": {
      "text/plain": [
       "6"
      ]
     },
     "execution_count": 6,
     "metadata": {},
     "output_type": "execute_result"
    }
   ],
   "source": [
    "# 넣은 숫자의 각각의 숫자 합 더하기\n",
    "\n",
    "def solution(n):\n",
    "    return sum([int(i) for i in str(n)])\n",
    "\n",
    "solution(123)"
   ]
  },
  {
   "cell_type": "code",
   "execution_count": 8,
   "id": "9f74eb88-e911-42a0-a76f-19f861e76631",
   "metadata": {},
   "outputs": [
    {
     "name": "stdout",
     "output_type": "stream",
     "text": [
      "[5, 4, 3, 2, 1]\n"
     ]
    }
   ],
   "source": [
    "# 넣은 숫자 거꾸로 표시\n",
    "\n",
    "def solution(n):\n",
    "    \n",
    "    answer = str(n)[::-1]\n",
    "    ans = []\n",
    "    \n",
    "    for i in answer:\n",
    "        ans.append(int(i))\n",
    "\n",
    "    return ans\n",
    "\n",
    "print(solution(12345))"
   ]
  },
  {
   "cell_type": "code",
   "execution_count": 10,
   "id": "f142190b-e26b-4bbf-890f-b1c6b8df2a47",
   "metadata": {},
   "outputs": [
    {
     "name": "stdout",
     "output_type": "stream",
     "text": [
      "Odd\n",
      "Even\n"
     ]
    }
   ],
   "source": [
    "# 홀수 짝수 구하기\n",
    "\n",
    "def solution(num):\n",
    "    \n",
    "    answer = \"\"\n",
    "    \n",
    "    if num % 2 == 0:\n",
    "        answer = \"Even\"\n",
    "    else:\n",
    "        answer = \"Odd\"\n",
    "        \n",
    "    return answer\n",
    "\n",
    "print(solution(3))\n",
    "print(solution(4))"
   ]
  }
 ],
 "metadata": {
  "kernelspec": {
   "display_name": "Python [conda env:base] *",
   "language": "python",
   "name": "conda-base-py"
  },
  "language_info": {
   "codemirror_mode": {
    "name": "ipython",
    "version": 3
   },
   "file_extension": ".py",
   "mimetype": "text/x-python",
   "name": "python",
   "nbconvert_exporter": "python",
   "pygments_lexer": "ipython3",
   "version": "3.13.5"
  }
 },
 "nbformat": 4,
 "nbformat_minor": 5
}
