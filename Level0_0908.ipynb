{
 "cells": [
  {
   "cell_type": "code",
   "execution_count": 2,
   "id": "c84aded0-e057-4953-8797-8727ff408509",
   "metadata": {},
   "outputs": [
    {
     "name": "stdout",
     "output_type": "stream",
     "text": [
      "3\n",
      "2\n",
      "1\n",
      "Let's go!\n"
     ]
    }
   ],
   "source": [
    "message = \"Let's go!\"\n",
    "\n",
    "print(\"3\\n2\\n1\")\n",
    "print(message)\n"
   ]
  },
  {
   "cell_type": "code",
   "execution_count": null,
   "id": "3baf04c0-7de3-420c-b550-30b20aa2598c",
   "metadata": {},
   "outputs": [],
   "source": [
    "angle1 = int(input())\n",
    "angle2 = int(input())\n",
    "\n",
    "sum_angle = angle1 + angle2\n",
    "print(sum_angle % 360)"
   ]
  }
 ],
 "metadata": {
  "kernelspec": {
   "display_name": "Python [conda env:base] *",
   "language": "python",
   "name": "conda-base-py"
  },
  "language_info": {
   "codemirror_mode": {
    "name": "ipython",
    "version": 3
   },
   "file_extension": ".py",
   "mimetype": "text/x-python",
   "name": "python",
   "nbconvert_exporter": "python",
   "pygments_lexer": "ipython3",
   "version": "3.13.5"
  }
 },
 "nbformat": 4,
 "nbformat_minor": 5
}
